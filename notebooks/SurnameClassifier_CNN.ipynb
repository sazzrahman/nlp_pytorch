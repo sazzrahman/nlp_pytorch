{
 "cells": [
  {
   "cell_type": "code",
   "execution_count": 6,
   "metadata": {},
   "outputs": [],
   "source": [
    "# Implementing the same Surname classifier using CNN\n",
    "\n",
    "import pandas as pd\n",
    "import numpy as np\n",
    "import matplotlib.pyplot as plt\n",
    "import sys\n",
    "import re\n",
    "import os\n",
    "from torch.utils.data import DataLoader\n",
    "from argparse import Namespace\n",
    "import torch\n",
    "import torch.nn as nn\n",
    "import torch.optim as optim\n",
    "# Version descrepancies on this one\n",
    "from tqdm import tqdm_notebook as notebook"
   ]
  },
  {
   "cell_type": "code",
   "execution_count": 8,
   "metadata": {},
   "outputs": [],
   "source": [
    "sys.path.append(\"../cnn_helper/\")"
   ]
  },
  {
   "cell_type": "code",
   "execution_count": 15,
   "metadata": {},
   "outputs": [
    {
     "name": "stdout",
     "output_type": "stream",
     "text": [
      "The autoreload extension is already loaded. To reload it, use:\n",
      "  %reload_ext autoreload\n"
     ]
    }
   ],
   "source": [
    "%load_ext autoreload\n",
    "%autoreload 2\n",
    "\n",
    "from cnn_classifier import SurnameClassifier\n",
    "from cnn_utils import ModelUtils\n",
    "from cnn_dataset import SurnameDataset"
   ]
  },
  {
   "cell_type": "code",
   "execution_count": 9,
   "metadata": {},
   "outputs": [],
   "source": [
    "args = Namespace(\n",
    "surname_csv = \"../data/surnames_with_splits.csv\",\n",
    "vectorizer_file = \"vectorizer.json\",\n",
    "model_state_file = \"model.pth\",\n",
    "save_dir = \"../data/model_state\",\n",
    "hidden_dim = 300,\n",
    "seed = 1337,\n",
    "num_epochs = 100,\n",
    "early_stopping_criteria=5,\n",
    "learning_rate = 0.001,\n",
    "batch_size=64,\n",
    "cuda = False,\n",
    "reload_from_files=False,\n",
    "expand_filepaths_to_save_dir=True)"
   ]
  }
 ],
 "metadata": {
  "kernelspec": {
   "display_name": "Python 3",
   "language": "python",
   "name": "python3"
  },
  "language_info": {
   "codemirror_mode": {
    "name": "ipython",
    "version": 3
   },
   "file_extension": ".py",
   "mimetype": "text/x-python",
   "name": "python",
   "nbconvert_exporter": "python",
   "pygments_lexer": "ipython3",
   "version": "3.6.7"
  }
 },
 "nbformat": 4,
 "nbformat_minor": 4
}
